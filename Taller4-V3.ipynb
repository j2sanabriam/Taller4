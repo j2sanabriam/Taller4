{
 "cells": [
  {
   "cell_type": "markdown",
   "id": "b375d0a2-e92a-4071-95a0-88c715c0c12d",
   "metadata": {
    "id": "b375d0a2-e92a-4071-95a0-88c715c0c12d"
   },
   "source": [
    "# Taller 4\n",
    "Julian Sanabria Mejia jj.sanabria@uniandes.edu.co <br>\n",
    "Ivan Saavedra Villamil ir.saavedra232@uniandes.edu.co <br>\n",
    "\n",
    "MINE-4101: Ciencia de Datos Aplicada <br>\n",
    "Univerisdad de los Andes"
   ]
  },
  {
   "cell_type": "markdown",
   "id": "be51e27c-57e6-48cf-ae63-b2a28feb50f2",
   "metadata": {
    "id": "be51e27c-57e6-48cf-ae63-b2a28feb50f2"
   },
   "source": [
    "## Importar Librerías"
   ]
  },
  {
   "cell_type": "code",
   "execution_count": 1,
   "id": "594a7d04-2d21-45f3-9aab-7e51f3f2d35d",
   "metadata": {
    "colab": {
     "base_uri": "https://localhost:8080/"
    },
    "id": "594a7d04-2d21-45f3-9aab-7e51f3f2d35d",
    "outputId": "e04d087d-4d7e-4aae-a386-7ccc41e30d51"
   },
   "outputs": [
    {
     "name": "stdout",
     "output_type": "stream",
     "text": [
      "Requirement already satisfied: pandas-profiling in c:\\users\\julian\\anaconda3\\envs\\cda_talleres\\lib\\site-packages (3.5.0)\n",
      "Requirement already satisfied: statsmodels<0.14,>=0.13.2 in c:\\users\\julian\\anaconda3\\envs\\cda_talleres\\lib\\site-packages (from pandas-profiling) (0.13.2)\n",
      "Requirement already satisfied: requests<2.29,>=2.24.0 in c:\\users\\julian\\anaconda3\\envs\\cda_talleres\\lib\\site-packages (from pandas-profiling) (2.28.1)\n",
      "Requirement already satisfied: scipy<1.10,>=1.4.1 in c:\\users\\julian\\anaconda3\\envs\\cda_talleres\\lib\\site-packages (from pandas-profiling) (1.9.1)\n",
      "Requirement already satisfied: matplotlib<3.7,>=3.2 in c:\\users\\julian\\anaconda3\\envs\\cda_talleres\\lib\\site-packages (from pandas-profiling) (3.5.2)\n",
      "Requirement already satisfied: jinja2<3.2,>=2.11.1 in c:\\users\\julian\\anaconda3\\envs\\cda_talleres\\lib\\site-packages (from pandas-profiling) (3.0.3)\n",
      "Requirement already satisfied: numpy<1.24,>=1.16.0 in c:\\users\\julian\\anaconda3\\envs\\cda_talleres\\lib\\site-packages (from pandas-profiling) (1.21.5)\n",
      "Requirement already satisfied: tqdm<4.65,>=4.48.2 in c:\\users\\julian\\anaconda3\\envs\\cda_talleres\\lib\\site-packages (from pandas-profiling) (4.64.1)\n",
      "Requirement already satisfied: htmlmin==0.1.12 in c:\\users\\julian\\anaconda3\\envs\\cda_talleres\\lib\\site-packages (from pandas-profiling) (0.1.12)\n",
      "Requirement already satisfied: seaborn<0.13,>=0.10.1 in c:\\users\\julian\\anaconda3\\envs\\cda_talleres\\lib\\site-packages (from pandas-profiling) (0.11.2)\n",
      "Requirement already satisfied: pandas!=1.4.0,<1.6,>1.1 in c:\\users\\julian\\anaconda3\\envs\\cda_talleres\\lib\\site-packages (from pandas-profiling) (1.4.3)\n",
      "Requirement already satisfied: phik<0.13,>=0.11.1 in c:\\users\\julian\\anaconda3\\envs\\cda_talleres\\lib\\site-packages (from pandas-profiling) (0.12.2)\n",
      "Requirement already satisfied: multimethod<1.10,>=1.4 in c:\\users\\julian\\anaconda3\\envs\\cda_talleres\\lib\\site-packages (from pandas-profiling) (1.8)\n",
      "Requirement already satisfied: pydantic<1.11,>=1.8.1 in c:\\users\\julian\\anaconda3\\envs\\cda_talleres\\lib\\site-packages (from pandas-profiling) (1.9.2)\n",
      "Requirement already satisfied: typeguard<2.14,>=2.13.2 in c:\\users\\julian\\anaconda3\\envs\\cda_talleres\\lib\\site-packages (from pandas-profiling) (2.13.3)\n",
      "Requirement already satisfied: visions[type_image_path]==0.7.5 in c:\\users\\julian\\anaconda3\\envs\\cda_talleres\\lib\\site-packages (from pandas-profiling) (0.7.5)\n",
      "Requirement already satisfied: PyYAML<6.1,>=5.0.0 in c:\\users\\julian\\anaconda3\\envs\\cda_talleres\\lib\\site-packages (from pandas-profiling) (6.0)\n",
      "Requirement already satisfied: tangled-up-in-unicode>=0.0.4 in c:\\users\\julian\\anaconda3\\envs\\cda_talleres\\lib\\site-packages (from visions[type_image_path]==0.7.5->pandas-profiling) (0.2.0)\n",
      "Requirement already satisfied: networkx>=2.4 in c:\\users\\julian\\anaconda3\\envs\\cda_talleres\\lib\\site-packages (from visions[type_image_path]==0.7.5->pandas-profiling) (2.8.6)\n",
      "Requirement already satisfied: attrs>=19.3.0 in c:\\users\\julian\\anaconda3\\envs\\cda_talleres\\lib\\site-packages (from visions[type_image_path]==0.7.5->pandas-profiling) (21.4.0)\n",
      "Requirement already satisfied: Pillow in c:\\users\\julian\\anaconda3\\envs\\cda_talleres\\lib\\site-packages (from visions[type_image_path]==0.7.5->pandas-profiling) (9.2.0)\n",
      "Requirement already satisfied: imagehash in c:\\users\\julian\\anaconda3\\envs\\cda_talleres\\lib\\site-packages (from visions[type_image_path]==0.7.5->pandas-profiling) (4.3.0)\n",
      "Requirement already satisfied: MarkupSafe>=2.0 in c:\\users\\julian\\anaconda3\\envs\\cda_talleres\\lib\\site-packages (from jinja2<3.2,>=2.11.1->pandas-profiling) (2.0.1)\n",
      "Requirement already satisfied: packaging>=20.0 in c:\\users\\julian\\anaconda3\\envs\\cda_talleres\\lib\\site-packages (from matplotlib<3.7,>=3.2->pandas-profiling) (21.3)\n",
      "Requirement already satisfied: cycler>=0.10 in c:\\users\\julian\\anaconda3\\envs\\cda_talleres\\lib\\site-packages (from matplotlib<3.7,>=3.2->pandas-profiling) (0.11.0)\n",
      "Requirement already satisfied: python-dateutil>=2.7 in c:\\users\\julian\\anaconda3\\envs\\cda_talleres\\lib\\site-packages (from matplotlib<3.7,>=3.2->pandas-profiling) (2.8.2)\n",
      "Requirement already satisfied: pyparsing>=2.2.1 in c:\\users\\julian\\anaconda3\\envs\\cda_talleres\\lib\\site-packages (from matplotlib<3.7,>=3.2->pandas-profiling) (3.0.9)\n",
      "Requirement already satisfied: fonttools>=4.22.0 in c:\\users\\julian\\anaconda3\\envs\\cda_talleres\\lib\\site-packages (from matplotlib<3.7,>=3.2->pandas-profiling) (4.25.0)\n",
      "Requirement already satisfied: kiwisolver>=1.0.1 in c:\\users\\julian\\anaconda3\\envs\\cda_talleres\\lib\\site-packages (from matplotlib<3.7,>=3.2->pandas-profiling) (1.4.2)\n",
      "Requirement already satisfied: pytz>=2020.1 in c:\\users\\julian\\anaconda3\\envs\\cda_talleres\\lib\\site-packages (from pandas!=1.4.0,<1.6,>1.1->pandas-profiling) (2022.1)\n",
      "Requirement already satisfied: joblib>=0.14.1 in c:\\users\\julian\\anaconda3\\envs\\cda_talleres\\lib\\site-packages (from phik<0.13,>=0.11.1->pandas-profiling) (1.1.0)\n",
      "Requirement already satisfied: typing-extensions>=3.7.4.3 in c:\\users\\julian\\anaconda3\\envs\\cda_talleres\\lib\\site-packages (from pydantic<1.11,>=1.8.1->pandas-profiling) (4.3.0)\n",
      "Requirement already satisfied: certifi>=2017.4.17 in c:\\users\\julian\\anaconda3\\envs\\cda_talleres\\lib\\site-packages (from requests<2.29,>=2.24.0->pandas-profiling) (2022.9.24)\n",
      "Requirement already satisfied: charset-normalizer<3,>=2 in c:\\users\\julian\\anaconda3\\envs\\cda_talleres\\lib\\site-packages (from requests<2.29,>=2.24.0->pandas-profiling) (2.0.4)\n",
      "Requirement already satisfied: idna<4,>=2.5 in c:\\users\\julian\\anaconda3\\envs\\cda_talleres\\lib\\site-packages (from requests<2.29,>=2.24.0->pandas-profiling) (3.3)\n",
      "Requirement already satisfied: urllib3<1.27,>=1.21.1 in c:\\users\\julian\\anaconda3\\envs\\cda_talleres\\lib\\site-packages (from requests<2.29,>=2.24.0->pandas-profiling) (1.26.11)\n",
      "Requirement already satisfied: patsy>=0.5.2 in c:\\users\\julian\\anaconda3\\envs\\cda_talleres\\lib\\site-packages (from statsmodels<0.14,>=0.13.2->pandas-profiling) (0.5.2)\n",
      "Requirement already satisfied: colorama in c:\\users\\julian\\anaconda3\\envs\\cda_talleres\\lib\\site-packages (from tqdm<4.65,>=4.48.2->pandas-profiling) (0.4.5)\n",
      "Requirement already satisfied: six in c:\\users\\julian\\anaconda3\\envs\\cda_talleres\\lib\\site-packages (from patsy>=0.5.2->statsmodels<0.14,>=0.13.2->pandas-profiling) (1.16.0)\n",
      "Requirement already satisfied: PyWavelets in c:\\users\\julian\\anaconda3\\envs\\cda_talleres\\lib\\site-packages (from imagehash->visions[type_image_path]==0.7.5->pandas-profiling) (1.4.1)\n"
     ]
    }
   ],
   "source": [
    "!pip install --upgrade pandas-profiling"
   ]
  },
  {
   "cell_type": "code",
   "execution_count": 2,
   "id": "9b2d231f-d8c1-420d-9394-65fd13eea256",
   "metadata": {
    "colab": {
     "base_uri": "https://localhost:8080/"
    },
    "id": "9b2d231f-d8c1-420d-9394-65fd13eea256",
    "outputId": "a969a33d-1439-4074-9f0c-504ed79f7ba0"
   },
   "outputs": [
    {
     "name": "stdout",
     "output_type": "stream",
     "text": [
      "Requirement already satisfied: markupsafe==2.0.1 in c:\\users\\julian\\anaconda3\\envs\\cda_talleres\\lib\\site-packages (2.0.1)\n"
     ]
    }
   ],
   "source": [
    "!pip install markupsafe==2.0.1"
   ]
  },
  {
   "cell_type": "code",
   "execution_count": 4,
   "id": "e968fef4-4db9-433b-ab09-4198400ba063",
   "metadata": {
    "id": "e968fef4-4db9-433b-ab09-4198400ba063"
   },
   "outputs": [
    {
     "ename": "AttributeError",
     "evalue": "module 'numpy.core' has no attribute 'numerictypes'",
     "output_type": "error",
     "traceback": [
      "\u001b[1;31m---------------------------------------------------------------------------\u001b[0m",
      "\u001b[1;31mAttributeError\u001b[0m                            Traceback (most recent call last)",
      "Input \u001b[1;32mIn [4]\u001b[0m, in \u001b[0;36m<cell line: 1>\u001b[1;34m()\u001b[0m\n\u001b[1;32m----> 1\u001b[0m \u001b[38;5;28;01mfrom\u001b[39;00m \u001b[38;5;21;01mjoblib\u001b[39;00m \u001b[38;5;28;01mimport\u001b[39;00m dump\n\u001b[0;32m      3\u001b[0m \u001b[38;5;28;01mimport\u001b[39;00m \u001b[38;5;21;01mpandas\u001b[39;00m \u001b[38;5;28;01mas\u001b[39;00m \u001b[38;5;21;01mpd\u001b[39;00m\n\u001b[0;32m      4\u001b[0m \u001b[38;5;28;01mimport\u001b[39;00m \u001b[38;5;21;01mmatplotlib\u001b[39;00m\u001b[38;5;21;01m.\u001b[39;00m\u001b[38;5;21;01mpyplot\u001b[39;00m \u001b[38;5;28;01mas\u001b[39;00m \u001b[38;5;21;01mplt\u001b[39;00m\n",
      "File \u001b[1;32m~\\anaconda3\\envs\\cda_talleres\\lib\\site-packages\\joblib\\__init__.py:113\u001b[0m, in \u001b[0;36m<module>\u001b[1;34m\u001b[0m\n\u001b[0;32m    109\u001b[0m __version__ \u001b[38;5;241m=\u001b[39m \u001b[38;5;124m'\u001b[39m\u001b[38;5;124m1.1.0\u001b[39m\u001b[38;5;124m'\u001b[39m\n\u001b[0;32m    112\u001b[0m \u001b[38;5;28;01mimport\u001b[39;00m \u001b[38;5;21;01mos\u001b[39;00m\n\u001b[1;32m--> 113\u001b[0m \u001b[38;5;28;01mfrom\u001b[39;00m \u001b[38;5;21;01m.\u001b[39;00m\u001b[38;5;21;01mmemory\u001b[39;00m \u001b[38;5;28;01mimport\u001b[39;00m Memory, MemorizedResult, register_store_backend\n\u001b[0;32m    114\u001b[0m \u001b[38;5;28;01mfrom\u001b[39;00m \u001b[38;5;21;01m.\u001b[39;00m\u001b[38;5;21;01mlogger\u001b[39;00m \u001b[38;5;28;01mimport\u001b[39;00m PrintTime\n\u001b[0;32m    115\u001b[0m \u001b[38;5;28;01mfrom\u001b[39;00m \u001b[38;5;21;01m.\u001b[39;00m\u001b[38;5;21;01mlogger\u001b[39;00m \u001b[38;5;28;01mimport\u001b[39;00m Logger\n",
      "File \u001b[1;32m~\\anaconda3\\envs\\cda_talleres\\lib\\site-packages\\joblib\\memory.py:32\u001b[0m, in \u001b[0;36m<module>\u001b[1;34m\u001b[0m\n\u001b[0;32m     30\u001b[0m \u001b[38;5;28;01mfrom\u001b[39;00m \u001b[38;5;21;01m.\u001b[39;00m\u001b[38;5;21;01mfunc_inspect\u001b[39;00m \u001b[38;5;28;01mimport\u001b[39;00m format_signature\n\u001b[0;32m     31\u001b[0m \u001b[38;5;28;01mfrom\u001b[39;00m \u001b[38;5;21;01m.\u001b[39;00m\u001b[38;5;21;01mlogger\u001b[39;00m \u001b[38;5;28;01mimport\u001b[39;00m Logger, format_time, pformat\n\u001b[1;32m---> 32\u001b[0m \u001b[38;5;28;01mfrom\u001b[39;00m \u001b[38;5;21;01m.\u001b[39;00m\u001b[38;5;21;01m_store_backends\u001b[39;00m \u001b[38;5;28;01mimport\u001b[39;00m StoreBackendBase, FileSystemStoreBackend\n\u001b[0;32m     35\u001b[0m FIRST_LINE_TEXT \u001b[38;5;241m=\u001b[39m \u001b[38;5;124m\"\u001b[39m\u001b[38;5;124m# first line:\u001b[39m\u001b[38;5;124m\"\u001b[39m\n\u001b[0;32m     37\u001b[0m \u001b[38;5;66;03m# TODO: The following object should have a data store object as a sub\u001b[39;00m\n\u001b[0;32m     38\u001b[0m \u001b[38;5;66;03m# object, and the interface to persist and query should be separated in\u001b[39;00m\n\u001b[0;32m     39\u001b[0m \u001b[38;5;66;03m# the data store.\u001b[39;00m\n\u001b[1;32m   (...)\u001b[0m\n\u001b[0;32m     46\u001b[0m \u001b[38;5;66;03m# TODO: Same remark for the logger, and probably use the Python logging\u001b[39;00m\n\u001b[0;32m     47\u001b[0m \u001b[38;5;66;03m# mechanism.\u001b[39;00m\n",
      "File \u001b[1;32m~\\anaconda3\\envs\\cda_talleres\\lib\\site-packages\\joblib\\_store_backends.py:15\u001b[0m, in \u001b[0;36m<module>\u001b[1;34m\u001b[0m\n\u001b[0;32m     12\u001b[0m \u001b[38;5;28;01mimport\u001b[39;00m \u001b[38;5;21;01mthreading\u001b[39;00m\n\u001b[0;32m     13\u001b[0m \u001b[38;5;28;01mfrom\u001b[39;00m \u001b[38;5;21;01mabc\u001b[39;00m \u001b[38;5;28;01mimport\u001b[39;00m ABCMeta, abstractmethod\n\u001b[1;32m---> 15\u001b[0m \u001b[38;5;28;01mfrom\u001b[39;00m \u001b[38;5;21;01m.\u001b[39;00m\u001b[38;5;21;01mbackports\u001b[39;00m \u001b[38;5;28;01mimport\u001b[39;00m concurrency_safe_rename\n\u001b[0;32m     16\u001b[0m \u001b[38;5;28;01mfrom\u001b[39;00m \u001b[38;5;21;01m.\u001b[39;00m\u001b[38;5;21;01mdisk\u001b[39;00m \u001b[38;5;28;01mimport\u001b[39;00m mkdirp, memstr_to_bytes, rm_subdirs\n\u001b[0;32m     17\u001b[0m \u001b[38;5;28;01mfrom\u001b[39;00m \u001b[38;5;21;01m.\u001b[39;00m \u001b[38;5;28;01mimport\u001b[39;00m numpy_pickle\n",
      "File \u001b[1;32m~\\anaconda3\\envs\\cda_talleres\\lib\\site-packages\\joblib\\backports.py:13\u001b[0m, in \u001b[0;36m<module>\u001b[1;34m\u001b[0m\n\u001b[0;32m      9\u001b[0m \u001b[38;5;28;01mfrom\u001b[39;00m \u001b[38;5;21;01mmultiprocessing\u001b[39;00m \u001b[38;5;28;01mimport\u001b[39;00m util\n\u001b[0;32m     12\u001b[0m \u001b[38;5;28;01mtry\u001b[39;00m:\n\u001b[1;32m---> 13\u001b[0m     \u001b[38;5;28;01mimport\u001b[39;00m \u001b[38;5;21;01mnumpy\u001b[39;00m \u001b[38;5;28;01mas\u001b[39;00m \u001b[38;5;21;01mnp\u001b[39;00m\n\u001b[0;32m     15\u001b[0m     \u001b[38;5;28;01mdef\u001b[39;00m \u001b[38;5;21mmake_memmap\u001b[39m(filename, dtype\u001b[38;5;241m=\u001b[39m\u001b[38;5;124m'\u001b[39m\u001b[38;5;124muint8\u001b[39m\u001b[38;5;124m'\u001b[39m, mode\u001b[38;5;241m=\u001b[39m\u001b[38;5;124m'\u001b[39m\u001b[38;5;124mr+\u001b[39m\u001b[38;5;124m'\u001b[39m, offset\u001b[38;5;241m=\u001b[39m\u001b[38;5;241m0\u001b[39m,\n\u001b[0;32m     16\u001b[0m                     shape\u001b[38;5;241m=\u001b[39m\u001b[38;5;28;01mNone\u001b[39;00m, order\u001b[38;5;241m=\u001b[39m\u001b[38;5;124m'\u001b[39m\u001b[38;5;124mC\u001b[39m\u001b[38;5;124m'\u001b[39m, unlink_on_gc_collect\u001b[38;5;241m=\u001b[39m\u001b[38;5;28;01mFalse\u001b[39;00m):\n\u001b[0;32m     17\u001b[0m         \u001b[38;5;124;03m\"\"\"Custom memmap constructor compatible with numpy.memmap.\u001b[39;00m\n\u001b[0;32m     18\u001b[0m \n\u001b[0;32m     19\u001b[0m \u001b[38;5;124;03m        This function:\u001b[39;00m\n\u001b[1;32m   (...)\u001b[0m\n\u001b[0;32m     27\u001b[0m \u001b[38;5;124;03m          memmaped file to resource_tracker.\u001b[39;00m\n\u001b[0;32m     28\u001b[0m \u001b[38;5;124;03m        \"\"\"\u001b[39;00m\n",
      "File \u001b[1;32m~\\anaconda3\\envs\\cda_talleres\\lib\\site-packages\\numpy\\__init__.py:200\u001b[0m, in \u001b[0;36m<module>\u001b[1;34m\u001b[0m\n\u001b[0;32m    194\u001b[0m __deprecated_attrs__\u001b[38;5;241m.\u001b[39mupdate({\n\u001b[0;32m    195\u001b[0m     n: (\u001b[38;5;28mgetattr\u001b[39m(_builtins, n), _msg\u001b[38;5;241m.\u001b[39mformat(n\u001b[38;5;241m=\u001b[39mn, extended_msg\u001b[38;5;241m=\u001b[39mextended_msg))\n\u001b[0;32m    196\u001b[0m     \u001b[38;5;28;01mfor\u001b[39;00m n, extended_msg \u001b[38;5;129;01min\u001b[39;00m _type_info\n\u001b[0;32m    197\u001b[0m })\n\u001b[0;32m    198\u001b[0m \u001b[38;5;66;03m# Numpy 1.20.0, 2020-10-19\u001b[39;00m\n\u001b[0;32m    199\u001b[0m __deprecated_attrs__[\u001b[38;5;124m\"\u001b[39m\u001b[38;5;124mtypeDict\u001b[39m\u001b[38;5;124m\"\u001b[39m] \u001b[38;5;241m=\u001b[39m (\n\u001b[1;32m--> 200\u001b[0m     \u001b[43mcore\u001b[49m\u001b[38;5;241;43m.\u001b[39;49m\u001b[43mnumerictypes\u001b[49m\u001b[38;5;241m.\u001b[39mtypeDict,\n\u001b[0;32m    201\u001b[0m     \u001b[38;5;124m\"\u001b[39m\u001b[38;5;124m`np.typeDict` is a deprecated alias for `np.sctypeDict`.\u001b[39m\u001b[38;5;124m\"\u001b[39m\n\u001b[0;32m    202\u001b[0m )\n\u001b[0;32m    204\u001b[0m _msg \u001b[38;5;241m=\u001b[39m (\n\u001b[0;32m    205\u001b[0m     \u001b[38;5;124m\"\u001b[39m\u001b[38;5;124m`np.\u001b[39m\u001b[38;5;132;01m{n}\u001b[39;00m\u001b[38;5;124m` is a deprecated alias for `np.compat.\u001b[39m\u001b[38;5;132;01m{n}\u001b[39;00m\u001b[38;5;124m`. \u001b[39m\u001b[38;5;124m\"\u001b[39m\n\u001b[0;32m    206\u001b[0m     \u001b[38;5;124m\"\u001b[39m\u001b[38;5;124mTo silence this warning, use `np.compat.\u001b[39m\u001b[38;5;132;01m{n}\u001b[39;00m\u001b[38;5;124m` by itself. \u001b[39m\u001b[38;5;124m\"\u001b[39m\n\u001b[1;32m   (...)\u001b[0m\n\u001b[0;32m    211\u001b[0m     \u001b[38;5;124m\"\u001b[39m\u001b[38;5;124mDeprecated in NumPy 1.20; for more details and guidance: \u001b[39m\u001b[38;5;124m\"\u001b[39m\n\u001b[0;32m    212\u001b[0m     \u001b[38;5;124m\"\u001b[39m\u001b[38;5;124mhttps://numpy.org/devdocs/release/1.20.0-notes.html#deprecations\u001b[39m\u001b[38;5;124m\"\u001b[39m)\n\u001b[0;32m    214\u001b[0m __deprecated_attrs__[\u001b[38;5;124m\"\u001b[39m\u001b[38;5;124mlong\u001b[39m\u001b[38;5;124m\"\u001b[39m] \u001b[38;5;241m=\u001b[39m (\n\u001b[0;32m    215\u001b[0m     \u001b[38;5;28mgetattr\u001b[39m(compat, \u001b[38;5;124m\"\u001b[39m\u001b[38;5;124mlong\u001b[39m\u001b[38;5;124m\"\u001b[39m),\n\u001b[0;32m    216\u001b[0m     _msg\u001b[38;5;241m.\u001b[39mformat(n\u001b[38;5;241m=\u001b[39m\u001b[38;5;124m\"\u001b[39m\u001b[38;5;124mlong\u001b[39m\u001b[38;5;124m\"\u001b[39m, n2\u001b[38;5;241m=\u001b[39m\u001b[38;5;124m\"\u001b[39m\u001b[38;5;124mint\u001b[39m\u001b[38;5;124m\"\u001b[39m,\n\u001b[0;32m    217\u001b[0m                 extended_msg\u001b[38;5;241m=\u001b[39m_int_extended_msg\u001b[38;5;241m.\u001b[39mformat(\u001b[38;5;124m\"\u001b[39m\u001b[38;5;124mlong\u001b[39m\u001b[38;5;124m\"\u001b[39m)))\n",
      "\u001b[1;31mAttributeError\u001b[0m: module 'numpy.core' has no attribute 'numerictypes'"
     ]
    }
   ],
   "source": [
    "from joblib import dump\n",
    "\n",
    "import pandas as pd\n",
    "import matplotlib.pyplot as plt\n",
    "import seaborn as sns\n",
    "\n",
    "from pandas_profiling import ProfileReport\n",
    "from sklearn.pipeline import Pipeline\n",
    "from sklearn.compose import ColumnTransformer\n",
    "from sklearn.preprocessing import StandardScaler, MinMaxScaler\n",
    "from sklearn.preprocessing import OrdinalEncoder, OneHotEncoder\n",
    "from sklearn.preprocessing import PolynomialFeatures\n",
    "from sklearn.tree import DecisionTreeClassifier\n",
    "from sklearn.linear_model import LogisticRegression\n",
    "from sklearn.model_selection import GridSearchCV\n",
    "from sklearn.metrics import confusion_matrix, ConfusionMatrixDisplay\n",
    "from sklearn.metrics import precision_score, recall_score, f1_score, roc_auc_score\n",
    "from sklearn.ensemble import RandomForestClassifier"
   ]
  },
  {
   "cell_type": "code",
   "execution_count": null,
   "id": "853316ee-4154-47e6-aaca-05d29d559e31",
   "metadata": {
    "id": "853316ee-4154-47e6-aaca-05d29d559e31"
   },
   "outputs": [],
   "source": [
    "# Configuración de Panadas para extender el número de filas y columnas a visualizar\n",
    "pd.set_option('display.max_rows', 100)\n",
    "pd.set_option('display.max_columns', 100)"
   ]
  },
  {
   "cell_type": "markdown",
   "id": "57c0ba9b-50de-49ae-b56d-429594bba996",
   "metadata": {
    "id": "57c0ba9b-50de-49ae-b56d-429594bba996"
   },
   "source": [
    "## Carga y revisión de la data"
   ]
  },
  {
   "cell_type": "code",
   "execution_count": null,
   "id": "68ea7402-6138-4020-bc36-aa298f4a6e2b",
   "metadata": {
    "colab": {
     "base_uri": "https://localhost:8080/",
     "height": 636
    },
    "id": "68ea7402-6138-4020-bc36-aa298f4a6e2b",
    "outputId": "e5699dad-3fba-41be-a79d-de5812cdd097"
   },
   "outputs": [],
   "source": [
    "df = pd.read_json('https://raw.githubusercontent.com/j2sanabriam/Taller4/main/data/DataSet_Entrenamiento_v1.json')\n",
    "df"
   ]
  },
  {
   "cell_type": "code",
   "execution_count": null,
   "id": "f2a4a0d9-c1d2-4506-9e4f-892e9033e698",
   "metadata": {
    "colab": {
     "base_uri": "https://localhost:8080/"
    },
    "id": "f2a4a0d9-c1d2-4506-9e4f-892e9033e698",
    "outputId": "b5ae4841-45bb-49da-ba80-7148662f88a0"
   },
   "outputs": [],
   "source": [
    "# Describe las dimensiones del DataFrame\n",
    "df.shape"
   ]
  },
  {
   "cell_type": "code",
   "execution_count": null,
   "id": "068b7954-6e38-4008-a966-0075a1d3151d",
   "metadata": {
    "colab": {
     "base_uri": "https://localhost:8080/"
    },
    "id": "068b7954-6e38-4008-a966-0075a1d3151d",
    "outputId": "9e2357e1-016d-444b-8aab-4bd67eba82c9"
   },
   "outputs": [],
   "source": [
    "# Describe las columnas y su tipo del DataFrame cargado\n",
    "df.dtypes"
   ]
  },
  {
   "cell_type": "code",
   "execution_count": null,
   "id": "QhRDNVN9sEiG",
   "metadata": {
    "id": "QhRDNVN9sEiG"
   },
   "outputs": [],
   "source": [
    "test_df = pd.read_json('https://raw.githubusercontent.com/j2sanabriam/Taller4/main/data/DataSet_Entrenamiento_v1.json')"
   ]
  },
  {
   "cell_type": "markdown",
   "id": "6497de0c-665f-42f8-83ae-0929d1a29cc3",
   "metadata": {
    "id": "6497de0c-665f-42f8-83ae-0929d1a29cc3",
    "tags": []
   },
   "source": [
    "## Limpieza y preparación de datos"
   ]
  },
  {
   "cell_type": "code",
   "execution_count": null,
   "id": "9baba0a2-6441-4669-8b7e-74f046558335",
   "metadata": {
    "colab": {
     "base_uri": "https://localhost:8080/"
    },
    "id": "9baba0a2-6441-4669-8b7e-74f046558335",
    "outputId": "dec4426f-257b-41d3-cea9-e5683b26f09b"
   },
   "outputs": [],
   "source": [
    "# Identificamos el número de missing values en cada columna\n",
    "df.isnull().sum()"
   ]
  },
  {
   "cell_type": "markdown",
   "id": "c0d7c0dd-e020-4e07-a89d-ca5fe22d618a",
   "metadata": {
    "id": "c0d7c0dd-e020-4e07-a89d-ca5fe22d618a"
   },
   "source": [
    "### Revisión columna gender"
   ]
  },
  {
   "cell_type": "code",
   "execution_count": null,
   "id": "d701b0bc-b5e1-458e-9a07-e93353c5ef9f",
   "metadata": {
    "colab": {
     "base_uri": "https://localhost:8080/"
    },
    "id": "d701b0bc-b5e1-458e-9a07-e93353c5ef9f",
    "outputId": "5a1061f4-c153-4618-d3dd-0d085decd866"
   },
   "outputs": [],
   "source": [
    "# Reviso los valores únicos para gender\n",
    "df['gender'].unique()"
   ]
  },
  {
   "cell_type": "markdown",
   "id": "295558e6-ed37-4308-a719-f827800ab30e",
   "metadata": {
    "id": "295558e6-ed37-4308-a719-f827800ab30e"
   },
   "source": [
    "### Revisión columna SeniorCitizen"
   ]
  },
  {
   "cell_type": "code",
   "execution_count": null,
   "id": "2e737772-bf37-4325-bd1e-7fcf3393ac8b",
   "metadata": {
    "colab": {
     "base_uri": "https://localhost:8080/"
    },
    "id": "2e737772-bf37-4325-bd1e-7fcf3393ac8b",
    "outputId": "2ed0b017-18fd-4272-8333-707007332b72"
   },
   "outputs": [],
   "source": [
    "# Reviso los valores únicos para SeniorCitizen\n",
    "df['SeniorCitizen'].unique()"
   ]
  },
  {
   "cell_type": "markdown",
   "id": "bb46383b-2bff-4399-8f58-f39bd53cc406",
   "metadata": {
    "id": "bb46383b-2bff-4399-8f58-f39bd53cc406"
   },
   "source": [
    "### Revisión columna Partner"
   ]
  },
  {
   "cell_type": "code",
   "execution_count": null,
   "id": "6edf90ba-d086-4c07-ac2f-3823014de342",
   "metadata": {
    "colab": {
     "base_uri": "https://localhost:8080/"
    },
    "id": "6edf90ba-d086-4c07-ac2f-3823014de342",
    "outputId": "bc5936bf-cc42-4e6c-fdd7-4b03894fc497"
   },
   "outputs": [],
   "source": [
    "# Reviso los valores únicos para Partner\n",
    "df['Partner'].unique()"
   ]
  },
  {
   "cell_type": "markdown",
   "id": "ad0d6482-2b50-425e-8024-30d1b7ed3b0f",
   "metadata": {
    "id": "ad0d6482-2b50-425e-8024-30d1b7ed3b0f"
   },
   "source": [
    "### Revisión columna Dependents"
   ]
  },
  {
   "cell_type": "code",
   "execution_count": null,
   "id": "ec50a07a-a946-46a8-8480-dcaa0852c578",
   "metadata": {
    "colab": {
     "base_uri": "https://localhost:8080/"
    },
    "id": "ec50a07a-a946-46a8-8480-dcaa0852c578",
    "outputId": "307eb956-bf41-4c6e-ca99-749b66742a8f"
   },
   "outputs": [],
   "source": [
    "# Reviso los valores únicos para Dependents\n",
    "df['Dependents'].unique()"
   ]
  },
  {
   "cell_type": "markdown",
   "id": "a85a9678-9f1f-4110-8af2-d52e2926a789",
   "metadata": {
    "id": "a85a9678-9f1f-4110-8af2-d52e2926a789"
   },
   "source": [
    "### Revisión columna tenure"
   ]
  },
  {
   "cell_type": "code",
   "execution_count": null,
   "id": "31d43f76-b866-4bf3-b7f6-b05648930222",
   "metadata": {
    "colab": {
     "base_uri": "https://localhost:8080/"
    },
    "id": "31d43f76-b866-4bf3-b7f6-b05648930222",
    "outputId": "bbfad956-0bf2-4df8-ed90-7ccc97b6f497"
   },
   "outputs": [],
   "source": [
    "# Reviso los valores únicos para tenure\n",
    "df['tenure'].unique()"
   ]
  },
  {
   "cell_type": "code",
   "execution_count": null,
   "id": "cd8f18b1-9a81-48b1-ba99-d0f86afcca5c",
   "metadata": {
    "colab": {
     "base_uri": "https://localhost:8080/",
     "height": 54
    },
    "id": "cd8f18b1-9a81-48b1-ba99-d0f86afcca5c",
    "outputId": "a4c18e70-a3d0-454f-9566-e6e0a205d638"
   },
   "outputs": [],
   "source": [
    "# Reviso la dispersión de los valores de la columna tenure a través de un gráfico de cajas\n",
    "plt.figure(figsize = (28, 3))\n",
    "plt.boxplot(df['tenure'], vert = False)\n",
    "plt.show()"
   ]
  },
  {
   "cell_type": "code",
   "execution_count": null,
   "id": "314baccc-fd80-41ac-b2bc-08377b5e7fa4",
   "metadata": {
    "colab": {
     "base_uri": "https://localhost:8080/"
    },
    "id": "314baccc-fd80-41ac-b2bc-08377b5e7fa4",
    "outputId": "1bde5953-f11e-4548-f3e6-43b2b159577e"
   },
   "outputs": [],
   "source": [
    "# Análisis Univariado columna tenure\n",
    "df['tenure'].describe(percentiles = [.25, .5, .75, .95, .99])"
   ]
  },
  {
   "cell_type": "markdown",
   "id": "1a9c0305-84da-4d76-8880-2f68b6ddb79f",
   "metadata": {
    "id": "1a9c0305-84da-4d76-8880-2f68b6ddb79f"
   },
   "source": [
    "### Revisión columna PhoneService"
   ]
  },
  {
   "cell_type": "code",
   "execution_count": null,
   "id": "2ab4e725-2397-4c0b-ba74-f4e2cf387a11",
   "metadata": {
    "colab": {
     "base_uri": "https://localhost:8080/"
    },
    "id": "2ab4e725-2397-4c0b-ba74-f4e2cf387a11",
    "outputId": "7574049f-d5c2-4901-fea2-ea5a4ef9464c"
   },
   "outputs": [],
   "source": [
    "# Reviso los valores únicos para PhoneService\n",
    "df['PhoneService'].unique()"
   ]
  },
  {
   "cell_type": "markdown",
   "id": "289eeb64-a888-4a62-b490-c5cce0f5a492",
   "metadata": {
    "id": "289eeb64-a888-4a62-b490-c5cce0f5a492"
   },
   "source": [
    "### Revisión columna MultipleLines"
   ]
  },
  {
   "cell_type": "code",
   "execution_count": null,
   "id": "0bcee509-c390-42a5-825c-02a6214a7c28",
   "metadata": {
    "colab": {
     "base_uri": "https://localhost:8080/"
    },
    "id": "0bcee509-c390-42a5-825c-02a6214a7c28",
    "outputId": "fbeb7021-07dc-4253-fafc-16e61d048738"
   },
   "outputs": [],
   "source": [
    "# Reviso los valores únicos para MultipleLines\n",
    "df['MultipleLines'].unique()"
   ]
  },
  {
   "cell_type": "markdown",
   "id": "130ac2f8-cae8-4979-b853-42d05f37e59a",
   "metadata": {
    "id": "130ac2f8-cae8-4979-b853-42d05f37e59a"
   },
   "source": [
    "### Revisión columna InternetService"
   ]
  },
  {
   "cell_type": "code",
   "execution_count": null,
   "id": "c67b235c-d989-4af6-b557-8c69a9885af3",
   "metadata": {
    "colab": {
     "base_uri": "https://localhost:8080/"
    },
    "id": "c67b235c-d989-4af6-b557-8c69a9885af3",
    "outputId": "4a762eb6-84ee-4d95-9407-47437530ae08"
   },
   "outputs": [],
   "source": [
    "# Reviso los valores únicos para InternetService\n",
    "df['InternetService'].unique()"
   ]
  },
  {
   "cell_type": "markdown",
   "id": "171b5c1d-11d7-48ce-930b-b03d106b2291",
   "metadata": {
    "id": "171b5c1d-11d7-48ce-930b-b03d106b2291"
   },
   "source": [
    "### Revisión columna OnlineSecurity"
   ]
  },
  {
   "cell_type": "code",
   "execution_count": null,
   "id": "dc144ead-84f4-40dd-855c-bca796044554",
   "metadata": {
    "colab": {
     "base_uri": "https://localhost:8080/"
    },
    "id": "dc144ead-84f4-40dd-855c-bca796044554",
    "outputId": "01f01f06-5ec1-4826-e2b9-f2ea8f07581a"
   },
   "outputs": [],
   "source": [
    "# Reviso los valores únicos para OnlineSecurity\n",
    "df['OnlineSecurity'].unique()"
   ]
  },
  {
   "cell_type": "markdown",
   "id": "371bbf94-b410-4d63-ba0f-be15da01fd0d",
   "metadata": {
    "id": "371bbf94-b410-4d63-ba0f-be15da01fd0d"
   },
   "source": [
    "### Revisión columna OnlineBackup"
   ]
  },
  {
   "cell_type": "code",
   "execution_count": null,
   "id": "42adeab9-b9f2-4698-a18a-ba665bf68d5c",
   "metadata": {
    "colab": {
     "base_uri": "https://localhost:8080/"
    },
    "id": "42adeab9-b9f2-4698-a18a-ba665bf68d5c",
    "outputId": "ecff89ff-0646-4d4b-9c74-0e5d37f5e6c3"
   },
   "outputs": [],
   "source": [
    "# Reviso los valores únicos para OnlineBackup\n",
    "df['OnlineBackup'].unique()"
   ]
  },
  {
   "cell_type": "markdown",
   "id": "9c593eb6-93be-4813-9a73-0c0bd6c84ba9",
   "metadata": {
    "id": "9c593eb6-93be-4813-9a73-0c0bd6c84ba9"
   },
   "source": [
    "### Revisión columna DeviceProtection"
   ]
  },
  {
   "cell_type": "code",
   "execution_count": null,
   "id": "dafea010-07e2-4408-8172-612b7ab23f05",
   "metadata": {
    "colab": {
     "base_uri": "https://localhost:8080/"
    },
    "id": "dafea010-07e2-4408-8172-612b7ab23f05",
    "outputId": "2ef68f39-d9d8-43c7-a71d-de8aee4b98ec"
   },
   "outputs": [],
   "source": [
    "# Reviso los valores únicos para DeviceProtection\n",
    "df['DeviceProtection'].unique()"
   ]
  },
  {
   "cell_type": "markdown",
   "id": "1e1f2535-cbb1-4c4e-84ff-4ee15fb721d1",
   "metadata": {
    "id": "1e1f2535-cbb1-4c4e-84ff-4ee15fb721d1"
   },
   "source": [
    "### Revisión columna TechSupport"
   ]
  },
  {
   "cell_type": "code",
   "execution_count": null,
   "id": "21ebcae9-3037-474a-ba11-b298294645fb",
   "metadata": {
    "colab": {
     "base_uri": "https://localhost:8080/"
    },
    "id": "21ebcae9-3037-474a-ba11-b298294645fb",
    "outputId": "3e07b408-c374-4e17-8a5e-e86ff3d994ee"
   },
   "outputs": [],
   "source": [
    "# Reviso los valores únicos para TechSupport\n",
    "df['TechSupport'].unique()"
   ]
  },
  {
   "cell_type": "markdown",
   "id": "28bafc06-c337-4cc3-aa69-c5b7352e5af7",
   "metadata": {
    "id": "28bafc06-c337-4cc3-aa69-c5b7352e5af7"
   },
   "source": [
    "### Revisión columna StreamingTV"
   ]
  },
  {
   "cell_type": "code",
   "execution_count": null,
   "id": "b9cf240a-2a06-48b1-84be-6ba185b24368",
   "metadata": {
    "colab": {
     "base_uri": "https://localhost:8080/"
    },
    "id": "b9cf240a-2a06-48b1-84be-6ba185b24368",
    "outputId": "499cc03e-9bda-4d91-b942-ab009a75cfbc"
   },
   "outputs": [],
   "source": [
    "# Reviso los valores únicos para StreamingTV\n",
    "df['StreamingTV'].unique()"
   ]
  },
  {
   "cell_type": "markdown",
   "id": "70ecf22f-dc81-42d6-b42a-689245d193c4",
   "metadata": {
    "id": "70ecf22f-dc81-42d6-b42a-689245d193c4"
   },
   "source": [
    "### Revisión columna StreamingMovies"
   ]
  },
  {
   "cell_type": "code",
   "execution_count": null,
   "id": "8a1021ad-3fe5-414c-b6c8-7dbbf8da26bf",
   "metadata": {
    "colab": {
     "base_uri": "https://localhost:8080/"
    },
    "id": "8a1021ad-3fe5-414c-b6c8-7dbbf8da26bf",
    "outputId": "b1ef2408-99fc-400d-b5d4-71c92fb7a9b0"
   },
   "outputs": [],
   "source": [
    "# Reviso los valores únicos para StreamingMovies\n",
    "df['StreamingMovies'].unique()"
   ]
  },
  {
   "cell_type": "markdown",
   "id": "8e8358ae-bed6-44d0-bacb-8021c2fd18b6",
   "metadata": {
    "id": "8e8358ae-bed6-44d0-bacb-8021c2fd18b6"
   },
   "source": [
    "### Revisión columna Contract"
   ]
  },
  {
   "cell_type": "code",
   "execution_count": null,
   "id": "25419bc7-c17a-44ad-b95a-c90cadaaf6df",
   "metadata": {
    "colab": {
     "base_uri": "https://localhost:8080/"
    },
    "id": "25419bc7-c17a-44ad-b95a-c90cadaaf6df",
    "outputId": "bc15e79f-cd49-434d-9f2c-58fe9da09e66"
   },
   "outputs": [],
   "source": [
    "# Reviso los valores únicos para Contract\n",
    "df['Contract'].unique()"
   ]
  },
  {
   "cell_type": "markdown",
   "id": "65e3fbe5-d1e1-43b6-b05b-512495f2fbcc",
   "metadata": {
    "id": "65e3fbe5-d1e1-43b6-b05b-512495f2fbcc"
   },
   "source": [
    "### Revisión columna PaperlessBilling"
   ]
  },
  {
   "cell_type": "code",
   "execution_count": null,
   "id": "07704efc-733d-492d-a900-7c72d96e92d6",
   "metadata": {
    "colab": {
     "base_uri": "https://localhost:8080/"
    },
    "id": "07704efc-733d-492d-a900-7c72d96e92d6",
    "outputId": "4fb4eb39-19d7-476d-c526-6c7ef73b35f9"
   },
   "outputs": [],
   "source": [
    "# Reviso los valores únicos para PaperlessBilling\n",
    "df['PaperlessBilling'].unique()"
   ]
  },
  {
   "cell_type": "markdown",
   "id": "065355fa-1116-404b-b3c1-f0f302735099",
   "metadata": {
    "id": "065355fa-1116-404b-b3c1-f0f302735099"
   },
   "source": [
    "### Revisión columna PaymentMethod"
   ]
  },
  {
   "cell_type": "code",
   "execution_count": null,
   "id": "619825a1-7f52-445d-8240-707c57ce5ef8",
   "metadata": {
    "colab": {
     "base_uri": "https://localhost:8080/"
    },
    "id": "619825a1-7f52-445d-8240-707c57ce5ef8",
    "outputId": "81f4bf76-ec96-40cf-ce02-7e7cdbb0908e"
   },
   "outputs": [],
   "source": [
    "# Reviso los valores únicos para PaymentMethod\n",
    "df['PaymentMethod'].unique()"
   ]
  },
  {
   "cell_type": "markdown",
   "id": "72556d0c-aae4-444a-a247-284f8e6c8664",
   "metadata": {
    "id": "72556d0c-aae4-444a-a247-284f8e6c8664"
   },
   "source": [
    "### Revisión columna MonthlyCharges"
   ]
  },
  {
   "cell_type": "code",
   "execution_count": null,
   "id": "e9d5ddb4-9534-4b1d-a272-b3794051a3fc",
   "metadata": {
    "colab": {
     "base_uri": "https://localhost:8080/"
    },
    "id": "e9d5ddb4-9534-4b1d-a272-b3794051a3fc",
    "outputId": "856d9ff3-3cf1-4291-f633-bc57ebce7c3c"
   },
   "outputs": [],
   "source": [
    "# Reviso los valores únicos para MonthlyCharges\n",
    "df['MonthlyCharges'].unique()"
   ]
  },
  {
   "cell_type": "code",
   "execution_count": null,
   "id": "8286a9c5-086c-485b-a4e0-11f3c6ccba4c",
   "metadata": {
    "colab": {
     "base_uri": "https://localhost:8080/",
     "height": 54
    },
    "id": "8286a9c5-086c-485b-a4e0-11f3c6ccba4c",
    "outputId": "01df0794-3445-4d15-a115-21881fb2fed3"
   },
   "outputs": [],
   "source": [
    "# Reviso la dispersión de los valores de la columna MonthlyCharges a través de un gráfico de cajas\n",
    "plt.figure(figsize = (28, 3))\n",
    "plt.boxplot(df['MonthlyCharges'], vert = False)\n",
    "plt.show()"
   ]
  },
  {
   "cell_type": "code",
   "execution_count": null,
   "id": "979a0dc9-c206-44c9-a862-43aa3fa7fede",
   "metadata": {
    "colab": {
     "base_uri": "https://localhost:8080/"
    },
    "id": "979a0dc9-c206-44c9-a862-43aa3fa7fede",
    "outputId": "af954ef2-e194-4557-b48b-24167d8bbf43"
   },
   "outputs": [],
   "source": [
    "# Análisis Univariado columna MonthlyCharges\n",
    "df['MonthlyCharges'].describe(percentiles = [.25, .5, .75, .95, .99])"
   ]
  },
  {
   "cell_type": "markdown",
   "id": "7fc04090-758f-4521-ab48-eddd05e07fd5",
   "metadata": {
    "id": "7fc04090-758f-4521-ab48-eddd05e07fd5"
   },
   "source": [
    "### Revisión columna TotalCharges"
   ]
  },
  {
   "cell_type": "code",
   "execution_count": null,
   "id": "476b9a92-97dd-4a6e-bfd3-af876e7cc3e3",
   "metadata": {
    "colab": {
     "base_uri": "https://localhost:8080/"
    },
    "id": "476b9a92-97dd-4a6e-bfd3-af876e7cc3e3",
    "outputId": "4c249592-9c63-48f9-d586-4f2fd7070816"
   },
   "outputs": [],
   "source": [
    "# Reviso los valores únicos para TotalCharges\n",
    "df['TotalCharges'].unique()"
   ]
  },
  {
   "cell_type": "code",
   "execution_count": null,
   "id": "14ccfbe4-1d32-480d-9ab8-32a42c7e00e1",
   "metadata": {
    "id": "14ccfbe4-1d32-480d-9ab8-32a42c7e00e1"
   },
   "outputs": [],
   "source": [
    "# Creating a function for validating which value is causing the previous error\n",
    "def error_in_format(x):\n",
    "    try:\n",
    "        y = float(x)\n",
    "        return False\n",
    "    except:\n",
    "        return True"
   ]
  },
  {
   "cell_type": "code",
   "execution_count": null,
   "id": "6753fda2-7073-48f4-86b4-269b0d3808db",
   "metadata": {
    "colab": {
     "base_uri": "https://localhost:8080/",
     "height": 559
    },
    "id": "6753fda2-7073-48f4-86b4-269b0d3808db",
    "outputId": "baaa4988-f974-4cec-c94f-e141510a393e"
   },
   "outputs": [],
   "source": [
    "# Usnado la función de validación\n",
    "df.loc[df[\"TotalCharges\"].apply(error_in_format)]"
   ]
  },
  {
   "cell_type": "code",
   "execution_count": null,
   "id": "cba466de-b8df-4922-a47b-b8e99699c619",
   "metadata": {
    "id": "cba466de-b8df-4922-a47b-b8e99699c619"
   },
   "outputs": [],
   "source": [
    "df['TotalCharges'] = df['TotalCharges'].replace(['', ' '],[0,0])"
   ]
  },
  {
   "cell_type": "code",
   "execution_count": null,
   "id": "881d541c-a6eb-44b2-aa4b-63326cdb1cfc",
   "metadata": {
    "colab": {
     "base_uri": "https://localhost:8080/",
     "height": 54
    },
    "id": "881d541c-a6eb-44b2-aa4b-63326cdb1cfc",
    "outputId": "6c1f3942-ed9c-4525-eab5-5d8bb1239fda"
   },
   "outputs": [],
   "source": [
    "# Reviso la dispersión de los valores de la columna MonthlyCharges a través de un gráfico de cajas\n",
    "plt.figure(figsize = (28, 3))\n",
    "plt.boxplot(df['TotalCharges'], vert = False)\n",
    "plt.show()"
   ]
  },
  {
   "cell_type": "code",
   "execution_count": null,
   "id": "201fdafb-2b6e-4efc-8d44-b6038c533dc7",
   "metadata": {
    "colab": {
     "base_uri": "https://localhost:8080/"
    },
    "id": "201fdafb-2b6e-4efc-8d44-b6038c533dc7",
    "outputId": "ac3b5eb9-8d81-47d2-fe19-d487185fca6e"
   },
   "outputs": [],
   "source": [
    "# Análisis Univariado columna MonthlyCharges\n",
    "df['TotalCharges'].describe(percentiles = [.25, .5, .75, .95, .99])"
   ]
  },
  {
   "cell_type": "markdown",
   "id": "548ba350-257a-422c-9618-37b813f0efc7",
   "metadata": {
    "id": "548ba350-257a-422c-9618-37b813f0efc7"
   },
   "source": [
    "### Revisión Variable Objetivo"
   ]
  },
  {
   "cell_type": "code",
   "execution_count": null,
   "id": "c5d8121f-0933-49dc-9c87-08b580e2d159",
   "metadata": {
    "colab": {
     "base_uri": "https://localhost:8080/"
    },
    "id": "c5d8121f-0933-49dc-9c87-08b580e2d159",
    "outputId": "c847142f-cb1e-4ef9-aa35-eb1eced73405"
   },
   "outputs": [],
   "source": [
    "# Reviso los valores únicos para Churn\n",
    "df['Churn'].unique()"
   ]
  },
  {
   "cell_type": "markdown",
   "id": "0463e676-55e7-40c6-9c0b-41cd1748284e",
   "metadata": {
    "id": "0463e676-55e7-40c6-9c0b-41cd1748284e"
   },
   "source": [
    "## Análisis Univariado"
   ]
  },
  {
   "cell_type": "code",
   "execution_count": null,
   "id": "1759b8ac-ecaf-4ae7-9115-0fa4fd416e18",
   "metadata": {
    "id": "1759b8ac-ecaf-4ae7-9115-0fa4fd416e18"
   },
   "outputs": [],
   "source": [
    "profile = ProfileReport(df)"
   ]
  },
  {
   "cell_type": "code",
   "execution_count": null,
   "id": "52004004-9504-44ee-afda-932be043f2fd",
   "metadata": {
    "colab": {
     "referenced_widgets": [
      "0ed77b2feb6f4f10a52629981fc50192",
      "c7e8f319b73541a6a0a50a835c872b25",
      "5a835b8ece7b4c598c1e2cfbaae96756"
     ]
    },
    "id": "52004004-9504-44ee-afda-932be043f2fd",
    "outputId": "996b7ef0-358a-4771-981c-e750abe05767"
   },
   "outputs": [],
   "source": [
    "profile.to_notebook_iframe()"
   ]
  },
  {
   "cell_type": "markdown",
   "id": "ad04ad2d-5e8d-4dc2-9abb-04eff72f4e22",
   "metadata": {
    "id": "ad04ad2d-5e8d-4dc2-9abb-04eff72f4e22"
   },
   "source": [
    "## Análisis Bivariado"
   ]
  },
  {
   "cell_type": "code",
   "execution_count": null,
   "id": "f6cc59fd-9e00-4938-beb1-705938a31a6b",
   "metadata": {
    "id": "f6cc59fd-9e00-4938-beb1-705938a31a6b"
   },
   "outputs": [],
   "source": [
    "# Selección de features\n",
    "objetivo = ['Churn']\n",
    "numericas = ['SeniorCitizen', 'TotalCharges', 'tenure', 'MonthlyCharges']\n",
    "categoricas = ['gender', 'Partner', 'Dependents', 'PhoneService', 'MultipleLines', 'InternetService', 'OnlineSecurity', 'OnlineBackup', \n",
    "               'DeviceProtection', 'TechSupport', 'StreamingTV', 'StreamingMovies', 'Contract', 'PaperlessBilling', 'PaymentMethod']\n",
    "excluidas = ['customerID']\n"
   ]
  },
  {
   "cell_type": "code",
   "execution_count": null,
   "id": "830f1d66-d65a-4d48-b12c-641271e861b1",
   "metadata": {
    "colab": {
     "base_uri": "https://localhost:8080/",
     "height": 193
    },
    "id": "830f1d66-d65a-4d48-b12c-641271e861b1",
    "outputId": "96c361a0-0565-4fa5-a85a-2d36f6c69289"
   },
   "outputs": [],
   "source": [
    "# Calculo matriz de correlaciones\n",
    "matriz = df[numericas].corr()\n",
    "\n",
    "cm = sns.light_palette(\"blue\", as_cmap=True)\n",
    "x=matriz\n",
    "x=x.style.background_gradient()\n",
    "x"
   ]
  },
  {
   "cell_type": "markdown",
   "id": "QR7TuxW2glR6",
   "metadata": {
    "id": "QR7TuxW2glR6"
   },
   "source": [
    "Excluimos las features tenure y MonthlyCharges por su alta correlación con TotalCharges y por las características de su distribución"
   ]
  },
  {
   "cell_type": "code",
   "execution_count": null,
   "id": "NWDoLYdEgHaS",
   "metadata": {
    "id": "NWDoLYdEgHaS"
   },
   "outputs": [],
   "source": [
    "features = ['SeniorCitizen', 'TotalCharges', 'gender', 'Partner', 'Dependents', 'PhoneService', 'MultipleLines', 'InternetService', 'OnlineSecurity', 'OnlineBackup', \n",
    "               'DeviceProtection', 'TechSupport', 'StreamingTV', 'StreamingMovies', 'Contract', 'PaperlessBilling', 'PaymentMethod']"
   ]
  },
  {
   "cell_type": "markdown",
   "id": "x1JyJj5JJthS",
   "metadata": {
    "id": "x1JyJj5JJthS"
   },
   "source": [
    "## Construcción y Selección del Mejor Modelo"
   ]
  },
  {
   "cell_type": "code",
   "execution_count": null,
   "id": "fe64071d-e0e7-4e81-9b15-fe4da8191c12",
   "metadata": {
    "id": "fe64071d-e0e7-4e81-9b15-fe4da8191c12"
   },
   "outputs": [],
   "source": [
    "pipeline = Pipeline([\n",
    "    ('transformer', ColumnTransformer([\n",
    "        ('ordinal', OrdinalEncoder(), ['gender', 'Partner', 'Dependents', 'PhoneService', 'PaperlessBilling']),\n",
    "        ('categorical', OneHotEncoder(sparse = False, handle_unknown = 'ignore'), ['MultipleLines', 'InternetService', 'OnlineSecurity', 'OnlineBackup', 'DeviceProtection', 'TechSupport', 'StreamingTV', 'StreamingMovies', 'Contract', 'PaymentMethod'])\n",
    "    ], remainder = 'passthrough')),\n",
    "    ('poly', 'passthrough'),\n",
    "    ('normalizer', StandardScaler()),\n",
    "    ('classifier',  DecisionTreeClassifier())\n",
    "]) "
   ]
  },
  {
   "cell_type": "code",
   "execution_count": null,
   "id": "5-up1fYITDpq",
   "metadata": {
    "id": "5-up1fYITDpq"
   },
   "outputs": [],
   "source": [
    "param_grid1 = [\n",
    "    {\n",
    "        'classifier': [DecisionTreeClassifier(random_state = 20)],\n",
    "        'classifier__criterion': ['gini', 'entropy'],\n",
    "        'classifier__max_depth' : [2, 3, 4, 5],\n",
    "        'classifier__class_weight': ['balanced', None]\n",
    "    },\n",
    "    {\n",
    "        'poly': [PolynomialFeatures()],\n",
    "        'poly__degree': [1, 2, 3],\n",
    "        'normalizer': [StandardScaler(), MinMaxScaler()],\n",
    "        'classifier': [LogisticRegression()],\n",
    "        'classifier__penalty': ['none', 'l1'],\n",
    "        'classifier__C': [0.1, 1.],\n",
    "        'classifier__class_weight': ['balanced', None]\n",
    "    }\n",
    "]"
   ]
  },
  {
   "cell_type": "code",
   "execution_count": null,
   "id": "nei9Q8yzTRc3",
   "metadata": {
    "id": "nei9Q8yzTRc3"
   },
   "outputs": [],
   "source": [
    "grid1 = GridSearchCV(estimator = pipeline, param_grid = param_grid1, scoring = ['roc_auc', 'f1'], n_jobs = 1, refit = 'roc_auc', cv = 5, return_train_score = True, verbose = 2)"
   ]
  },
  {
   "cell_type": "markdown",
   "id": "wgu-wV0a4CtO",
   "metadata": {
    "id": "wgu-wV0a4CtO"
   },
   "source": [
    "La métrica ROC AUC debe usarse cuando hay aproximadamente el mismo número de observaciones para cada clase, osea cuando las clases están balanceadas. En contraste métricas como F1, Precision o Recall deben usarse cuando hay un desequilibrio de clase moderado a grande."
   ]
  },
  {
   "cell_type": "code",
   "execution_count": null,
   "id": "bUcxUfdkl3VV",
   "metadata": {
    "colab": {
     "base_uri": "https://localhost:8080/"
    },
    "id": "bUcxUfdkl3VV",
    "outputId": "d0397948-f794-4d74-fade-61daccef1917"
   },
   "outputs": [],
   "source": [
    "grid1.fit(df[features], df['Churn'])"
   ]
  },
  {
   "cell_type": "code",
   "execution_count": null,
   "id": "PpqB6q3apVjM",
   "metadata": {
    "colab": {
     "base_uri": "https://localhost:8080/"
    },
    "id": "PpqB6q3apVjM",
    "outputId": "1b57a486-d458-4412-8a02-45132d6f1770"
   },
   "outputs": [],
   "source": [
    "grid1.best_params_"
   ]
  },
  {
   "cell_type": "code",
   "execution_count": null,
   "id": "yAB7VIXEpjtB",
   "metadata": {
    "id": "yAB7VIXEpjtB"
   },
   "outputs": [],
   "source": [
    "best_results_df = pd.DataFrame(grid1.cv_results_).iloc[grid1.best_index_].reset_index().rename(columns = {'index': 'result', grid1.best_index_: 'value'})\n",
    "best_results_df = best_results_df.loc[best_results_df['result'].str.contains('split')]\n",
    "[best_results_df['split'], best_results_df['dataset'], best_results_df['metric']] = zip(*best_results_df['result'].str.split('_'))\n",
    "best_results_df['dataset'].replace({'test': 'validation'}, inplace = True)\n",
    "del best_results_df['result']"
   ]
  },
  {
   "cell_type": "code",
   "execution_count": null,
   "id": "3l81rvzTp-mU",
   "metadata": {
    "colab": {
     "base_uri": "https://localhost:8080/",
     "height": 610
    },
    "id": "3l81rvzTp-mU",
    "outputId": "60b735b6-34e9-4667-989d-dd6e5248e168"
   },
   "outputs": [],
   "source": [
    "plt.figure(figsize = (8, 10))\n",
    "sns.boxplot(data = best_results_df, y = 'value', x = 'metric', hue = 'dataset', showmeans = True)\n",
    "plt.show()"
   ]
  },
  {
   "cell_type": "markdown",
   "id": "RFhaVxY9tlM3",
   "metadata": {
    "id": "RFhaVxY9tlM3"
   },
   "source": [
    "## Exporting the pipeline"
   ]
  },
  {
   "cell_type": "code",
   "execution_count": null,
   "id": "Hhu7qXiBtmJ0",
   "metadata": {
    "colab": {
     "base_uri": "https://localhost:8080/"
    },
    "id": "Hhu7qXiBtmJ0",
    "outputId": "a1318c79-7155-4ec8-cab6-998c4c618692"
   },
   "outputs": [],
   "source": [
    "dump(grid1.best_estimator_, 'models/churn-V2.6.joblib') "
   ]
  },
  {
   "cell_type": "code",
   "execution_count": null,
   "id": "dpKmecfrmutG",
   "metadata": {
    "id": "dpKmecfrmutG"
   },
   "outputs": [],
   "source": [
    "import joblib"
   ]
  },
  {
   "cell_type": "code",
   "execution_count": null,
   "id": "5eRg007CmgJB",
   "metadata": {
    "id": "5eRg007CmgJB"
   },
   "outputs": [],
   "source": [
    "loaded_model = joblib.load(\"models/churn-V2.5.joblib\")"
   ]
  },
  {
   "cell_type": "code",
   "execution_count": null,
   "id": "IMrRRcVKuwx_",
   "metadata": {
    "id": "IMrRRcVKuwx_"
   },
   "outputs": [],
   "source": [
    "loaded_model1 = joblib.load(\"models/churn-V2.5.joblib\")"
   ]
  },
  {
   "cell_type": "code",
   "execution_count": null,
   "id": "2N3ybkH7obMC",
   "metadata": {
    "colab": {
     "base_uri": "https://localhost:8080/",
     "height": 559
    },
    "id": "2N3ybkH7obMC",
    "outputId": "afe26cd6-55c3-400a-df41-cca6d90abd22"
   },
   "outputs": [],
   "source": [
    "test_df.loc[test_df[\"TotalCharges\"].apply(error_in_format)]"
   ]
  },
  {
   "cell_type": "code",
   "execution_count": null,
   "id": "FoB-gF-mo5KX",
   "metadata": {
    "id": "FoB-gF-mo5KX"
   },
   "outputs": [],
   "source": [
    "test_df['TotalCharges'] = test_df['TotalCharges'].replace(['', ' '],[0,0])"
   ]
  },
  {
   "cell_type": "code",
   "execution_count": null,
   "id": "SJqLzl_Im-cI",
   "metadata": {
    "id": "SJqLzl_Im-cI"
   },
   "outputs": [],
   "source": [
    "test_preds_proba = loaded_model1.predict_proba(test_df[features])[:, 1]"
   ]
  },
  {
   "cell_type": "code",
   "execution_count": null,
   "id": "nqMFwyI7nYla",
   "metadata": {
    "id": "nqMFwyI7nYla"
   },
   "outputs": [],
   "source": [
    "test_df['prob'] = test_preds_proba"
   ]
  },
  {
   "cell_type": "code",
   "execution_count": null,
   "id": "UD6Hgg-5pZG6",
   "metadata": {
    "colab": {
     "base_uri": "https://localhost:8080/",
     "height": 636
    },
    "id": "UD6Hgg-5pZG6",
    "outputId": "ee42c38b-9903-425c-8eb2-1837c4072eab"
   },
   "outputs": [],
   "source": [
    "test_df"
   ]
  },
  {
   "cell_type": "code",
   "execution_count": null,
   "id": "o0Xl21NbpBFg",
   "metadata": {
    "colab": {
     "base_uri": "https://localhost:8080/",
     "height": 281
    },
    "id": "o0Xl21NbpBFg",
    "outputId": "d6238e79-35c4-4ff9-9187-739613abdc54"
   },
   "outputs": [],
   "source": [
    "plt.hist(test_preds_proba)\n",
    "plt.title('Probability predictios for test dataset')\n",
    "plt.show()"
   ]
  }
 ],
 "metadata": {
  "colab": {
   "provenance": []
  },
  "kernelspec": {
   "display_name": "Python 3 (ipykernel)",
   "language": "python",
   "name": "python3"
  },
  "language_info": {
   "codemirror_mode": {
    "name": "ipython",
    "version": 3
   },
   "file_extension": ".py",
   "mimetype": "text/x-python",
   "name": "python",
   "nbconvert_exporter": "python",
   "pygments_lexer": "ipython3",
   "version": "3.9.12"
  }
 },
 "nbformat": 4,
 "nbformat_minor": 5
}
